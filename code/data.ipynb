{
 "cells": [
  {
   "cell_type": "code",
   "execution_count": 1,
   "metadata": {},
   "outputs": [],
   "source": [
    "import numpy as np\n",
    "import matplotlib.pyplot as plt\n",
    "from tqdm import tqdm\n",
    "import os\n",
    "import cv2"
   ]
  },
  {
   "cell_type": "code",
   "execution_count": 2,
   "metadata": {},
   "outputs": [],
   "source": [
    "labels = ['glioma_tumor', 'meningioma_tumor', 'no_tumor', 'pituitary_tumor']\n",
    "\n",
    "X_train = []\n",
    "y_train = []\n",
    "\n",
    "X_val = []\n",
    "y_val = []\n",
    "image_size = 256"
   ]
  },
  {
   "cell_type": "code",
   "execution_count": 5,
   "metadata": {},
   "outputs": [
    {
     "name": "stderr",
     "output_type": "stream",
     "text": [
      "100%|██████████| 826/826 [00:00<00:00, 998.66it/s] \n",
      "100%|██████████| 822/822 [00:00<00:00, 1015.59it/s]\n",
      "100%|██████████| 395/395 [00:00<00:00, 1011.60it/s]\n",
      "100%|██████████| 827/827 [00:00<00:00, 898.45it/s]\n"
     ]
    }
   ],
   "source": [
    "for label in labels:\n",
    "    path = f\"../data/Training/{label}\"\n",
    "    for filename in tqdm(os.listdir(path)):\n",
    "        img_path = f\"{path}/{filename}\"\n",
    "        img = cv2.imread(img_path)\n",
    "        if img is not None:\n",
    "            img = cv2.resize(img, (image_size, image_size))\n",
    "            X_train.append(img)\n",
    "            y_train.append(label)"
   ]
  },
  {
   "cell_type": "code",
   "execution_count": 6,
   "metadata": {},
   "outputs": [
    {
     "name": "stderr",
     "output_type": "stream",
     "text": [
      "100%|██████████| 100/100 [00:00<00:00, 921.03it/s]\n",
      "100%|██████████| 115/115 [00:00<00:00, 1166.03it/s]\n",
      "100%|██████████| 105/105 [00:00<00:00, 1912.43it/s]\n",
      "100%|██████████| 74/74 [00:00<00:00, 479.97it/s]\n"
     ]
    }
   ],
   "source": [
    "for label in labels:\n",
    "    path = f\"../data/Testing/{label}\"\n",
    "    for filename in tqdm(os.listdir(path)):\n",
    "        img_path = f\"{path}/{filename}\"\n",
    "        img = cv2.imread(img_path)\n",
    "        if img is not None:\n",
    "            img = cv2.resize(img, (image_size, image_size))\n",
    "            X_train.append(img)\n",
    "            y_train.append(label)"
   ]
  },
  {
   "cell_type": "code",
   "execution_count": 11,
   "metadata": {},
   "outputs": [],
   "source": [
    "X_train = np.array(X_train)\n",
    "y_train = np.array(y_train)\n",
    "X_val = np.array(X_val)\n",
    "y_val = np.array(y_val)"
   ]
  },
  {
   "cell_type": "code",
   "execution_count": 15,
   "metadata": {},
   "outputs": [],
   "source": [
    "# import pickle\n",
    "# from pydrive.auth import GoogleAuth\n",
    "# from pydrive.drive import GoogleDrive\n",
    "\n",
    "\n",
    "# gauth = GoogleAuth()\n",
    "# gauth.LocalWebserverAuth()\n",
    "# drive = GoogleDrive(gauth)\n",
    "# from pydrive.auth import GoogleAuth\n",
    "# from pydrive.drive import GoogleDrive\n",
    "# import pickle\n",
    "# import os\n",
    "\n",
    "# # Authenticate and create the PyDrive client\n",
    "# gauth = GoogleAuth()\n",
    "# gauth.LocalWebserverAuth()  # For the first run, it will ask for your credentials\n",
    "# drive = GoogleDrive(gauth)\n",
    "\n",
    "# # Save the files locally\n",
    "# datasets_dir = 'datasets/'\n",
    "\n",
    "# # List of files to save and upload\n",
    "# files_to_upload = [\n",
    "#     ('trainImages.pkl', X_train),\n",
    "#     ('trainLabels.pkl', y_train),\n",
    "#     ('valImages.pkl', X_val),\n",
    "#     ('valLabels.pkl', y_val)\n",
    "# ]\n",
    "\n",
    "# for filename, data in files_to_upload:\n",
    "#     filepath = os.path.join(datasets_dir, filename)\n",
    "#     with open(filepath, 'wb') as f:\n",
    "#         pickle.dump(data, f)\n",
    "#     print(f'Saved {filename} locally.')\n",
    "\n",
    "#     # Upload the .pkl file to Google Drive\n",
    "#     upload_file = drive.CreateFile({'title': filename})  # Set file name on Drive\n",
    "#     upload_file.SetContentFile(filepath)  # Set content from the local file\n",
    "#     upload_file.Upload()  # Upload the file\n",
    "#     print(f'Uploaded {filename} to Google Drive.')\n",
    "\n",
    "#     if os.path.exists(filepath):\n",
    "#         os.remove(filepath)\n",
    "#         print(f'Local file {filename} deleted.')\n",
    "#     else:\n",
    "#         print(f'Error: {filename} file not found.')\n",
    "\n",
    "# print(\"All files have been uploaded and deleted locally.\")\n"
   ]
  },
  {
   "cell_type": "code",
   "execution_count": null,
   "metadata": {},
   "outputs": [],
   "source": []
  }
 ],
 "metadata": {
  "kernelspec": {
   "display_name": ".venv",
   "language": "python",
   "name": "python3"
  },
  "language_info": {
   "codemirror_mode": {
    "name": "ipython",
    "version": 3
   },
   "file_extension": ".py",
   "mimetype": "text/x-python",
   "name": "python",
   "nbconvert_exporter": "python",
   "pygments_lexer": "ipython3",
   "version": "3.12.0"
  }
 },
 "nbformat": 4,
 "nbformat_minor": 2
}
