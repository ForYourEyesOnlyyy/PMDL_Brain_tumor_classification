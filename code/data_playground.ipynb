{
 "cells": [
  {
   "cell_type": "code",
   "execution_count": 1,
   "metadata": {},
   "outputs": [],
   "source": [
    "import numpy as np\n",
    "import matplotlib.pyplot as plt\n",
    "from tqdm import tqdm\n",
    "import os\n",
    "import cv2\n",
    "from utils import get_project_root"
   ]
  },
  {
   "cell_type": "code",
   "execution_count": 2,
   "metadata": {},
   "outputs": [],
   "source": [
    "labels = ['glioma_tumor', 'meningioma_tumor', 'no_tumor', 'pituitary_tumor']\n",
    "label_mapping = {\n",
    "    'glioma_tumor': 0,\n",
    "    'meningioma_tumor': 1,\n",
    "    'no_tumor': 2,\n",
    "    'pituitary_tumor': 3\n",
    "}\n",
    "\n",
    "image_size = 256"
   ]
  },
  {
   "cell_type": "code",
   "execution_count": 6,
   "metadata": {},
   "outputs": [
    {
     "name": "stderr",
     "output_type": "stream",
     "text": [
      "100%|██████████| 826/826 [00:00<00:00, 1252.44it/s]\n",
      "100%|██████████| 822/822 [00:00<00:00, 1418.78it/s]\n",
      "100%|██████████| 395/395 [00:00<00:00, 1413.89it/s]\n",
      "100%|██████████| 827/827 [00:00<00:00, 1229.90it/s]\n"
     ]
    }
   ],
   "source": [
    "X_train = []\n",
    "y_train = []\n",
    "\n",
    "for label in labels:\n",
    "    path = f\"../data/Training/{label}\"\n",
    "    for filename in tqdm(os.listdir(path)):\n",
    "        img_path = f\"{path}/{filename}\"\n",
    "        img = cv2.imread(img_path)\n",
    "        if img is not None:\n",
    "            img = cv2.resize(img, (image_size, image_size))\n",
    "            img = cv2.cvtColor(img, cv2.COLOR_BGR2GRAY)\n",
    "            img = np.expand_dims(img, axis=0)\n",
    "            X_train.append(img)\n",
    "            y_train.append(label_mapping[label])"
   ]
  },
  {
   "cell_type": "code",
   "execution_count": 15,
   "metadata": {},
   "outputs": [
    {
     "name": "stderr",
     "output_type": "stream",
     "text": [
      "100%|██████████| 100/100 [00:00<00:00, 1090.57it/s]\n",
      "100%|██████████| 115/115 [00:00<00:00, 1452.30it/s]\n",
      "100%|██████████| 105/105 [00:00<00:00, 2362.68it/s]\n",
      "100%|██████████| 74/74 [00:00<00:00, 538.59it/s]\n"
     ]
    }
   ],
   "source": [
    "X_val = []\n",
    "y_val = []\n",
    "\n",
    "for label in labels:\n",
    "    train_path = \"data/Testing\"\n",
    "    path = os.path.join(get_project_root, train_path, label)\n",
    "    for filename in tqdm(os.listdir(path)):\n",
    "        img_path = f\"{path}/{filename}\"\n",
    "        img = cv2.imread(img_path)\n",
    "        if img is not None:\n",
    "            img = cv2.resize(img, (image_size, image_size))\n",
    "            img = cv2.cvtColor(img, cv2.COLOR_BGR2GRAY)\n",
    "            img = np.expand_dims(img, axis=0)\n",
    "            X_val.append(img)\n",
    "            y_val.append(label_mapping[label])"
   ]
  },
  {
   "cell_type": "code",
   "execution_count": 16,
   "metadata": {},
   "outputs": [],
   "source": [
    "X_train = np.array(X_train)\n",
    "y_train = np.array(y_train)\n",
    "X_val = np.array(X_val)\n",
    "y_val = np.array(y_val)"
   ]
  },
  {
   "cell_type": "code",
   "execution_count": 12,
   "metadata": {},
   "outputs": [],
   "source": [
    "X_train[0]\n",
    "\n",
    "np.save(\"tmp.npy\", X_train[0])"
   ]
  },
  {
   "cell_type": "code",
   "execution_count": 18,
   "metadata": {},
   "outputs": [],
   "source": [
    "import torch\n",
    "from torch.utils.data import TensorDataset, DataLoader\n",
    "\n",
    "X_train_tensor = torch.tensor(X_train, dtype=torch.float32)\n",
    "y_train_tensor = torch.tensor(y_train, dtype=torch.long)\n",
    "\n",
    "train_dataset = TensorDataset(X_train_tensor, y_train_tensor)\n",
    "\n",
    "\n",
    "X_val_tensor = torch.tensor(X_val, dtype=torch.float32)\n",
    "y_val_tensor = torch.tensor(y_val, dtype=torch.long)\n",
    "\n",
    "val_dataset = TensorDataset(X_val_tensor, y_val_tensor)"
   ]
  },
  {
   "cell_type": "code",
   "execution_count": 10,
   "metadata": {},
   "outputs": [
    {
     "name": "stdout",
     "output_type": "stream",
     "text": [
      "v1.0.0\n",
      "Dataset version v1.0.0 saved!\n"
     ]
    }
   ],
   "source": [
    "from versioning import save_data, get_next_version\n",
    "\n",
    "print(get_next_version(type=\"data\"))\n",
    "\n",
    "save_data(train_dataset, val_dataset, version=get_next_version(type=\"data\"))\n"
   ]
  }
 ],
 "metadata": {
  "kernelspec": {
   "display_name": ".venv",
   "language": "python",
   "name": "python3"
  },
  "language_info": {
   "codemirror_mode": {
    "name": "ipython",
    "version": 3
   },
   "file_extension": ".py",
   "mimetype": "text/x-python",
   "name": "python",
   "nbconvert_exporter": "python",
   "pygments_lexer": "ipython3",
   "version": "3.12.6"
  }
 },
 "nbformat": 4,
 "nbformat_minor": 2
}
