{
 "cells": [
  {
   "cell_type": "code",
   "execution_count": 1,
   "metadata": {},
   "outputs": [],
   "source": [
    "import torch\n",
    "import torch.nn as nn\n",
    "import torch.optim as optim\n",
    "import torch.nn.functional as F\n",
    "\n",
    "class CNN(nn.Module):\n",
    "    def __init__(self):\n",
    "        super(CNN, self).__init__()\n",
    "\n",
    "        self.model = nn.Sequential(\n",
    "            # 1st layer\n",
    "            nn.Conv2d(in_channels=1, out_channels=32, kernel_size=3, stride=1, padding=1),\n",
    "            nn.ReLU(),\n",
    "            nn.MaxPool2d(kernel_size=2, stride=2), # 256 / 2 = 128\n",
    "\n",
    "            # 2nd layer\n",
    "            nn.Conv2d(in_channels=32, out_channels=64, kernel_size=3, stride=1, padding=1),\n",
    "            nn.ReLU(),\n",
    "            nn.MaxPool2d(kernel_size=2, stride=2), # 128 / 2 = 64\n",
    "\n",
    "            # 3rd layer\n",
    "            nn.Conv2d(in_channels=64, out_channels=128, kernel_size= 3, stride=1, padding=1),\n",
    "            nn.ReLU(),\n",
    "            nn.MaxPool2d(kernel_size=2, stride=2), # 64 / 2 = 32\n",
    "\n",
    "            # 4rd layer\n",
    "            nn.Conv2d(in_channels=128, out_channels=256, kernel_size= 3, stride=1, padding=1),\n",
    "            nn.ReLU(),\n",
    "            nn.MaxPool2d(kernel_size=2, stride=2), # 32 / 2 = 16\n",
    "\n",
    "            nn.Flatten(), #256 * 16 * 16\n",
    "\n",
    "            # 1st linear\n",
    "            nn.Linear(256 * 16 * 16, 512),\n",
    "            nn.ReLU(),\n",
    "            nn.Dropout(0.5),\n",
    "\n",
    "            # 2nd linear\n",
    "            nn.Linear(512, 128),\n",
    "            nn.ReLU(),\n",
    "            nn.Dropout(0.2),\n",
    "\n",
    "            # 3nd linear\n",
    "            nn.Linear(128, 64),\n",
    "            nn.ReLU(),\n",
    "            nn.Dropout(0.5),\n",
    "\n",
    "            # 4rd linear\n",
    "            nn.Linear(64, 16),\n",
    "            nn.ReLU(),\n",
    "\n",
    "            # 5th linear\n",
    "            nn.Linear(16, 4)\n",
    "        )\n",
    "\n",
    "    def forward(self, x):\n",
    "        return self.model(x)"
   ]
  },
  {
   "cell_type": "code",
   "execution_count": 2,
   "metadata": {},
   "outputs": [],
   "source": [
    "def train(model, train_loader, val_loader, optimiser, criterion, epochs, device, writer, ckpt_path=\"../models/best.pt\"):\n",
    "    model.to(device)\n",
    "\n",
    "    best = 0.0\n",
    "\n",
    "    for epoch in range(epochs):\n",
    "        train_loop = (tqdm(enumerate(train_loader, 0), total= (len(train_loader)), desc=f\"Epoch {epoch}\"))  \n",
    "\n",
    "        model.train()\n",
    "        train_loss = 0.\n",
    "\n",
    "        for batch_idx, (feat, labels) in train_loop:\n",
    "            feat, labels = feat.to(device), labels.to(device)\n",
    "            \n",
    "            outputs = model(feat)\n",
    "\n",
    "            loss = criterion(outputs, labels)\n",
    "\n",
    "            optimiser.zero_grad()\n",
    "            loss.backward()\n",
    "            optimiser.step() \n",
    "            \n",
    "            train_loss += loss.item()\n",
    "\n",
    "            train_loop.set_postfix({\"loss\": loss.item()})\n",
    "            \n",
    "        if writer:\n",
    "            writer.add_scalar(\"Loss/train\", train_loss / len(train_loader), epoch)\n",
    "        \n",
    "        with torch.no_grad():\n",
    "            correct, total = 0, 0\n",
    "            model.eval()\n",
    "            val_loop = tqdm(enumerate(val_loader, 0), total=len(val_loader), desc=\"Val\")\n",
    "            for batch_idx, (feat, labels) in val_loop:\n",
    "                feat, labels = feat.to(device), labels.to(device)\n",
    "\n",
    "                outputs = model(feat)\n",
    "                _, preds = torch.max(outputs.data, 1)\n",
    "\n",
    "                correct += (preds == labels).sum().item()\n",
    "                total += labels.size(0)\n",
    "\n",
    "                val_loop.set_postfix({\"acc\": correct / total})\n",
    "            \n",
    "            if writer:\n",
    "                writer.add_scalar(\"Accuracy/val\", correct / total, epoch)\n",
    "\n",
    "            if correct / total > best:\n",
    "                torch.save(model.state_dict(), ckpt_path)\n",
    "                best = correct / total\n",
    "    return train_loss, correct / total \n",
    "        "
   ]
  },
  {
   "cell_type": "code",
   "execution_count": 3,
   "metadata": {},
   "outputs": [],
   "source": [
    "def select_device():\n",
    "    if torch.backends.mps.is_available():\n",
    "        return 'mps'\n",
    "    elif torch.cuda.is_available():\n",
    "        return 'cuda'\n",
    "    else:\n",
    "        return 'cpu'"
   ]
  },
  {
   "cell_type": "code",
   "execution_count": 5,
   "metadata": {},
   "outputs": [
    {
     "name": "stdout",
     "output_type": "stream",
     "text": [
      "Dataset version v1.0.0 loaded! Train size: 2870, Class counts: {'0': 826, '1': 822, '2': 395, '3': 827}\n"
     ]
    },
    {
     "name": "stderr",
     "output_type": "stream",
     "text": [
      "/Users/maxmartyshov/Desktop/IU/year3/PMDL/PMDL_Brain_tumor_classification/code/versioning.py:148: FutureWarning: You are using `torch.load` with `weights_only=False` (the current default value), which uses the default pickle module implicitly. It is possible to construct malicious pickle data which will execute arbitrary code during unpickling (See https://github.com/pytorch/pytorch/blob/main/SECURITY.md#untrusted-models for more details). In a future release, the default value for `weights_only` will be flipped to `True`. This limits the functions that could be executed during unpickling. Arbitrary objects will no longer be allowed to be loaded via this mode unless they are explicitly allowlisted by the user via `torch.serialization.add_safe_globals`. We recommend you start setting `weights_only=True` for any use case where you don't have full control of the loaded file. Please open an issue on GitHub for any issues related to this experimental feature.\n",
      "  train_dataset = torch.load(os.path.join(data_dir, 'train_dataset.pt'))\n",
      "/Users/maxmartyshov/Desktop/IU/year3/PMDL/PMDL_Brain_tumor_classification/code/versioning.py:149: FutureWarning: You are using `torch.load` with `weights_only=False` (the current default value), which uses the default pickle module implicitly. It is possible to construct malicious pickle data which will execute arbitrary code during unpickling (See https://github.com/pytorch/pytorch/blob/main/SECURITY.md#untrusted-models for more details). In a future release, the default value for `weights_only` will be flipped to `True`. This limits the functions that could be executed during unpickling. Arbitrary objects will no longer be allowed to be loaded via this mode unless they are explicitly allowlisted by the user via `torch.serialization.add_safe_globals`. We recommend you start setting `weights_only=True` for any use case where you don't have full control of the loaded file. Please open an issue on GitHub for any issues related to this experimental feature.\n",
      "  val_dataset = torch.load(os.path.join(data_dir, 'val_dataset.pt'))\n"
     ]
    }
   ],
   "source": [
    "from data import load_data\n",
    "\n",
    "data_version = \"v1.0.0\"\n",
    "\n",
    "train_dataset, val_dataset = load_data(data_version)"
   ]
  },
  {
   "cell_type": "code",
   "execution_count": 8,
   "metadata": {},
   "outputs": [
    {
     "name": "stderr",
     "output_type": "stream",
     "text": [
      "Epoch 0: 100%|██████████| 23/23 [00:08<00:00,  2.61it/s, loss=1.32]\n",
      "Val: 100%|██████████| 4/4 [00:00<00:00,  7.78it/s, acc=0.208]\n",
      "Epoch 1: 100%|██████████| 23/23 [00:07<00:00,  3.00it/s, loss=1.01]\n",
      "Val: 100%|██████████| 4/4 [00:00<00:00, 11.28it/s, acc=0.259]\n",
      "Epoch 2: 100%|██████████| 23/23 [00:07<00:00,  3.02it/s, loss=0.886]\n",
      "Val: 100%|██████████| 4/4 [00:00<00:00, 13.39it/s, acc=0.404]\n",
      "Epoch 3: 100%|██████████| 23/23 [00:07<00:00,  3.08it/s, loss=0.717]\n",
      "Val: 100%|██████████| 4/4 [00:00<00:00, 11.87it/s, acc=0.388]\n",
      "Epoch 4: 100%|██████████| 23/23 [00:07<00:00,  3.05it/s, loss=0.609]\n",
      "Val: 100%|██████████| 4/4 [00:00<00:00, 10.76it/s, acc=0.388]\n",
      "Epoch 5: 100%|██████████| 23/23 [00:07<00:00,  3.16it/s, loss=0.485]\n",
      "Val: 100%|██████████| 4/4 [00:00<00:00, 10.95it/s, acc=0.485]\n",
      "Epoch 6: 100%|██████████| 23/23 [00:07<00:00,  3.12it/s, loss=0.412]\n",
      "Val: 100%|██████████| 4/4 [00:00<00:00, 12.59it/s, acc=0.371]\n",
      "Epoch 7: 100%|██████████| 23/23 [00:07<00:00,  3.10it/s, loss=0.627]\n",
      "Val: 100%|██████████| 4/4 [00:00<00:00, 12.25it/s, acc=0.492]\n",
      "Epoch 8: 100%|██████████| 23/23 [00:07<00:00,  3.13it/s, loss=0.391]\n",
      "Val: 100%|██████████| 4/4 [00:00<00:00, 11.38it/s, acc=0.546]\n",
      "Epoch 9: 100%|██████████| 23/23 [00:07<00:00,  3.13it/s, loss=0.398]\n",
      "Val: 100%|██████████| 4/4 [00:00<00:00, 14.13it/s, acc=0.589]\n"
     ]
    }
   ],
   "source": [
    "from torch.utils.tensorboard import SummaryWriter\n",
    "from torch.utils.data import DataLoader\n",
    "from tqdm import tqdm\n",
    "\n",
    "batch_size = 128\n",
    "train_loader = DataLoader(train_dataset, batch_size=batch_size, shuffle=True)\n",
    "val_loader = DataLoader(val_dataset, batch_size=batch_size, shuffle=True)\n",
    "\n",
    "model = CNN()\n",
    "optimiser = torch.optim.Adam(model.parameters(), lr=0.001)\n",
    "loss_fn = nn.CrossEntropyLoss()\n",
    "device = select_device()\n",
    "epochs = 10\n",
    "\n",
    "train_loss, val_acc = train(model, train_loader, val_loader, optimiser, loss_fn, epochs, device, SummaryWriter())\n"
   ]
  },
  {
   "cell_type": "code",
   "execution_count": null,
   "metadata": {},
   "outputs": [],
   "source": [
    "from versioning import save_model, get_next_version\n",
    "\n",
    "print(get_next_version(type=\"model\"))\n",
    "\n",
    "save_model(model, optimiser, epoch=epochs, loss=train_loss, accuracy=val_acc, version=get_next_version(type=\"model\"))"
   ]
  }
 ],
 "metadata": {
  "kernelspec": {
   "display_name": ".venv",
   "language": "python",
   "name": "python3"
  },
  "language_info": {
   "codemirror_mode": {
    "name": "ipython",
    "version": 3
   },
   "file_extension": ".py",
   "mimetype": "text/x-python",
   "name": "python",
   "nbconvert_exporter": "python",
   "pygments_lexer": "ipython3",
   "version": "3.12.6"
  }
 },
 "nbformat": 4,
 "nbformat_minor": 2
}
