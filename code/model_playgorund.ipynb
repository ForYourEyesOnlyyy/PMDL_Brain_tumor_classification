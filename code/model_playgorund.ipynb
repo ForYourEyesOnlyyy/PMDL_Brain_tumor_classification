{
 "cells": [
  {
   "cell_type": "code",
   "execution_count": 1,
   "metadata": {},
   "outputs": [],
   "source": [
    "import torch\n",
    "import torch.nn as nn\n",
    "import torch.optim as optim\n",
    "import torch.nn.functional as F\n",
    "\n",
    "class CNN(nn.Module):\n",
    "    def __init__(self):\n",
    "        super(CNN, self).__init__()\n",
    "\n",
    "        self.model = nn.Sequential(\n",
    "            # 1st layer\n",
    "            nn.Conv2d(in_channels=1, out_channels=32, kernel_size=3, stride=1, padding=1),\n",
    "            nn.ReLU(),\n",
    "            nn.MaxPool2d(kernel_size=2, stride=2), # 256 / 2 = 128\n",
    "\n",
    "            # 2nd layer\n",
    "            nn.Conv2d(in_channels=32, out_channels=64, kernel_size=3, stride=1, padding=1),\n",
    "            nn.ReLU(),\n",
    "            nn.MaxPool2d(kernel_size=2, stride=2), # 128 / 2 = 64\n",
    "\n",
    "            # 3rd layer\n",
    "            nn.Conv2d(in_channels=64, out_channels=128, kernel_size= 3, stride=1, padding=1),\n",
    "            nn.ReLU(),\n",
    "            nn.MaxPool2d(kernel_size=2, stride=2), # 64 / 2 = 32\n",
    "\n",
    "            # 4rd layer\n",
    "            nn.Conv2d(in_channels=128, out_channels=256, kernel_size= 3, stride=1, padding=1),\n",
    "            nn.ReLU(),\n",
    "            nn.MaxPool2d(kernel_size=2, stride=2), # 32 / 2 = 16\n",
    "\n",
    "            nn.Flatten(), #256 * 16 * 16\n",
    "\n",
    "            # 1st linear\n",
    "            nn.Linear(256 * 16 * 16, 512),\n",
    "            nn.ReLU(),\n",
    "            nn.Dropout(0.5),\n",
    "\n",
    "            # 2nd linear\n",
    "            nn.Linear(512, 128),\n",
    "            nn.ReLU(),\n",
    "            nn.Dropout(0.2),\n",
    "\n",
    "            # 3nd linear\n",
    "            nn.Linear(128, 64),\n",
    "            nn.ReLU(),\n",
    "            nn.Dropout(0.5),\n",
    "\n",
    "            # 4rd linear\n",
    "            nn.Linear(64, 16),\n",
    "            nn.ReLU(),\n",
    "\n",
    "            # 5th linear\n",
    "            nn.Linear(16, 4)\n",
    "        )\n",
    "\n",
    "    def forward(self, x):\n",
    "        return self.model(x)"
   ]
  },
  {
   "cell_type": "code",
   "execution_count": 2,
   "metadata": {},
   "outputs": [],
   "source": [
    "def train(model, train_loader, val_loader, optimiser, criterion, epochs, device, writer, ckpt_path=\"../models/best.pt\"):\n",
    "    model.to(device)\n",
    "\n",
    "    best = 0.0\n",
    "\n",
    "    for epoch in range(epochs):\n",
    "        train_loop = (tqdm(enumerate(train_loader, 0), total= (len(train_loader)), desc=f\"Epoch {epoch}\"))  \n",
    "\n",
    "        model.train()\n",
    "        train_loss = 0.\n",
    "\n",
    "        for batch_idx, (feat, labels) in train_loop:\n",
    "            feat, labels = feat.to(device), labels.to(device)\n",
    "            \n",
    "            outputs = model(feat)\n",
    "\n",
    "            loss = criterion(outputs, labels)\n",
    "\n",
    "            optimiser.zero_grad()\n",
    "            loss.backward()\n",
    "            optimiser.step() \n",
    "            \n",
    "            train_loss += loss.item()\n",
    "\n",
    "            train_loop.set_postfix({\"loss\": loss.item()})\n",
    "            \n",
    "        if writer:\n",
    "            writer.add_scalar(\"Loss/train\", train_loss / len(train_loader), epoch)\n",
    "        \n",
    "        with torch.no_grad():\n",
    "            correct, total = 0, 0\n",
    "            model.eval()\n",
    "            val_loop = tqdm(enumerate(val_loader, 0), total=len(val_loader), desc=\"Val\")\n",
    "            for batch_idx, (feat, labels) in val_loop:\n",
    "                feat, labels = feat.to(device), labels.to(device)\n",
    "\n",
    "                outputs = model(feat)\n",
    "                _, preds = torch.max(outputs.data, 1)\n",
    "\n",
    "                correct += (preds == labels).sum().item()\n",
    "                total += labels.size(0)\n",
    "\n",
    "                val_loop.set_postfix({\"acc\": correct / total})\n",
    "            \n",
    "            if writer:\n",
    "                writer.add_scalar(\"Accuracy/val\", correct / total, epoch)\n",
    "\n",
    "            if correct / total > best:\n",
    "                torch.save(model.state_dict(), ckpt_path)\n",
    "                best = correct / total\n",
    "    return train_loss, correct / total \n",
    "        "
   ]
  },
  {
   "cell_type": "code",
   "execution_count": 3,
   "metadata": {},
   "outputs": [],
   "source": [
    "def select_device():\n",
    "    if torch.backends.mps.is_available():\n",
    "        return 'mps'\n",
    "    elif torch.cuda.is_available():\n",
    "        return 'cuda'\n",
    "    else:\n",
    "        return 'cpu'"
   ]
  },
  {
   "cell_type": "code",
   "execution_count": 16,
   "metadata": {},
   "outputs": [
    {
     "name": "stdout",
     "output_type": "stream",
     "text": [
      "['.DS_Store', 'datasets', 'model_playgorund.ipynb', '__init__.py', 'tmp.py', '__pycache__', 'model.py', 'utils.py', 'deployment', 'versioning.py', 'tmp.npy', 'runs', 'data.py', 'data_playground.ipynb']\n"
     ]
    }
   ],
   "source": [
    "import sys\n",
    "import os\n",
    "\n",
    "# Get the current notebook directory\n",
    "notebook_dir = os.getcwd()\n",
    "\n",
    "print(os.listdir())"
   ]
  },
  {
   "cell_type": "code",
   "execution_count": 18,
   "metadata": {},
   "outputs": [
    {
     "name": "stdout",
     "output_type": "stream",
     "text": [
      "Dataset version v1.0.0 loaded! Train size: 2870, Class counts: {'0': 826, '1': 822, '2': 395, '3': 827}\n"
     ]
    }
   ],
   "source": [
    "%run data.py\n",
    "\n",
    "from data import load_data\n",
    "\n",
    "data_version = \"v1.0.0\"\n",
    "\n",
    "train_dataset, val_dataset = load_data(data_version)"
   ]
  },
  {
   "cell_type": "code",
   "execution_count": 20,
   "metadata": {},
   "outputs": [
    {
     "name": "stderr",
     "output_type": "stream",
     "text": [
      "Epoch 0: 100%|██████████| 23/23 [00:05<00:00,  4.46it/s, loss=1.25]\n",
      "Val: 100%|██████████| 4/4 [00:00<00:00, 21.72it/s, acc=0.226]\n",
      "Epoch 1: 100%|██████████| 23/23 [00:05<00:00,  4.49it/s, loss=0.983]\n",
      "Val: 100%|██████████| 4/4 [00:00<00:00, 20.02it/s, acc=0.355]\n",
      "Epoch 2: 100%|██████████| 23/23 [00:05<00:00,  4.45it/s, loss=1.03] \n",
      "Val: 100%|██████████| 4/4 [00:00<00:00, 20.35it/s, acc=0.363]\n",
      "Epoch 3: 100%|██████████| 23/23 [00:05<00:00,  4.37it/s, loss=0.708]\n",
      "Val: 100%|██████████| 4/4 [00:00<00:00, 21.01it/s, acc=0.36] \n",
      "Epoch 4: 100%|██████████| 23/23 [00:05<00:00,  4.53it/s, loss=0.712]\n",
      "Val: 100%|██████████| 4/4 [00:00<00:00, 21.37it/s, acc=0.365]\n",
      "Epoch 5: 100%|██████████| 23/23 [00:05<00:00,  4.52it/s, loss=0.573]\n",
      "Val: 100%|██████████| 4/4 [00:00<00:00, 20.20it/s, acc=0.401]\n",
      "Epoch 6: 100%|██████████| 23/23 [00:05<00:00,  4.57it/s, loss=0.416]\n",
      "Val: 100%|██████████| 4/4 [00:00<00:00, 21.32it/s, acc=0.36] \n",
      "Epoch 7: 100%|██████████| 23/23 [00:05<00:00,  4.43it/s, loss=0.31] \n",
      "Val: 100%|██████████| 4/4 [00:00<00:00, 20.60it/s, acc=0.508]\n",
      "Epoch 8: 100%|██████████| 23/23 [00:05<00:00,  4.48it/s, loss=0.387]\n",
      "Val: 100%|██████████| 4/4 [00:00<00:00, 20.90it/s, acc=0.485]\n",
      "Epoch 9: 100%|██████████| 23/23 [00:05<00:00,  4.44it/s, loss=0.368]\n",
      "Val: 100%|██████████| 4/4 [00:00<00:00, 20.55it/s, acc=0.503]\n",
      "Epoch 10: 100%|██████████| 23/23 [00:05<00:00,  4.37it/s, loss=0.337] \n",
      "Val: 100%|██████████| 4/4 [00:00<00:00, 20.88it/s, acc=0.52] \n",
      "Epoch 11: 100%|██████████| 23/23 [00:05<00:00,  4.37it/s, loss=0.224]\n",
      "Val: 100%|██████████| 4/4 [00:00<00:00, 20.73it/s, acc=0.591]\n",
      "Epoch 12: 100%|██████████| 23/23 [00:05<00:00,  4.39it/s, loss=0.22] \n",
      "Val: 100%|██████████| 4/4 [00:00<00:00, 18.42it/s, acc=0.627]\n",
      "Epoch 13: 100%|██████████| 23/23 [00:05<00:00,  4.33it/s, loss=0.0698]\n",
      "Val: 100%|██████████| 4/4 [00:00<00:00, 20.28it/s, acc=0.642]\n",
      "Epoch 14: 100%|██████████| 23/23 [00:05<00:00,  4.38it/s, loss=0.0732]\n",
      "Val: 100%|██████████| 4/4 [00:00<00:00, 20.55it/s, acc=0.688]\n",
      "Epoch 15: 100%|██████████| 23/23 [00:05<00:00,  4.39it/s, loss=0.119] \n",
      "Val: 100%|██████████| 4/4 [00:00<00:00, 20.16it/s, acc=0.693]\n",
      "Epoch 16: 100%|██████████| 23/23 [00:05<00:00,  4.38it/s, loss=0.123] \n",
      "Val: 100%|██████████| 4/4 [00:00<00:00, 20.54it/s, acc=0.688]\n",
      "Epoch 17: 100%|██████████| 23/23 [00:05<00:00,  4.37it/s, loss=0.0894]\n",
      "Val: 100%|██████████| 4/4 [00:00<00:00, 19.13it/s, acc=0.688]\n",
      "Epoch 18: 100%|██████████| 23/23 [00:05<00:00,  4.32it/s, loss=0.0921]\n",
      "Val: 100%|██████████| 4/4 [00:00<00:00, 20.42it/s, acc=0.68] \n",
      "Epoch 19: 100%|██████████| 23/23 [00:05<00:00,  4.31it/s, loss=0.0282]\n",
      "Val: 100%|██████████| 4/4 [00:00<00:00, 19.81it/s, acc=0.713]\n"
     ]
    }
   ],
   "source": [
    "from torch.utils.tensorboard import SummaryWriter\n",
    "from torch.utils.data import DataLoader\n",
    "from tqdm import tqdm\n",
    "\n",
    "batch_size = 128\n",
    "train_loader = DataLoader(train_dataset, batch_size=batch_size, shuffle=True)\n",
    "val_loader = DataLoader(val_dataset, batch_size=batch_size, shuffle=True)\n",
    "\n",
    "model = CNN()\n",
    "optimiser = torch.optim.Adam(model.parameters(), lr=0.001)\n",
    "loss_fn = nn.CrossEntropyLoss()\n",
    "device = select_device()\n",
    "epochs = 20\n",
    "\n",
    "train_loss, val_acc = train(model, train_loader, val_loader, optimiser, loss_fn, epochs, device, SummaryWriter())\n"
   ]
  },
  {
   "cell_type": "code",
   "execution_count": 22,
   "metadata": {},
   "outputs": [
    {
     "name": "stdout",
     "output_type": "stream",
     "text": [
      "v1.0.1\n",
      "Model version v1.0.1 saved as .pt!\n"
     ]
    }
   ],
   "source": [
    "from versioning import save_model, get_next_version\n",
    "\n",
    "print(get_next_version(type=\"model\"))\n",
    "\n",
    "save_model(model, optimiser, epoch=epochs, loss=train_loss, accuracy=val_acc, version='v1.0.1')"
   ]
  }
 ],
 "metadata": {
  "kernelspec": {
   "display_name": ".venv",
   "language": "python",
   "name": "python3"
  },
  "language_info": {
   "codemirror_mode": {
    "name": "ipython",
    "version": 3
   },
   "file_extension": ".py",
   "mimetype": "text/x-python",
   "name": "python",
   "nbconvert_exporter": "python",
   "pygments_lexer": "ipython3",
   "version": "3.12.6"
  }
 },
 "nbformat": 4,
 "nbformat_minor": 2
}
